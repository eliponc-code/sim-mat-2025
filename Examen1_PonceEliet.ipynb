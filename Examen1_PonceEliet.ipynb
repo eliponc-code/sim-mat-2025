{
  "cells": [
    {
      "cell_type": "markdown",
      "metadata": {
        "id": "view-in-github",
        "colab_type": "text"
      },
      "source": [
        "<a href=\"https://colab.research.google.com/github/eliponc-code/sim-mat-2025/blob/main/Examen1_PonceEliet.ipynb\" target=\"_parent\"><img src=\"https://colab.research.google.com/assets/colab-badge.svg\" alt=\"Open In Colab\"/></a>"
      ]
    },
    {
      "cell_type": "markdown",
      "id": "3d182c15",
      "metadata": {
        "id": "3d182c15"
      },
      "source": [
        "# Examen Módulo 1 - Optimización.\n",
        "\n",
        "**Lea cuidadosamente las siguientes indicaciones antes de comenzar el examen:**\n",
        "- Para resolver el examen edite este mismo archivo y renómbrelo de la siguiente manera: *Examen1_ApellidoNombre*, donde *ApellidoNombre* corresponde a su apellido paterno con la inicial en mayúscula, seguido de su primer nombre con la inicial en mayúscula **sin acentos**. Por ejemplo, en mi caso el nombre del archivo sería *Examen1_ArellanoCarlos*.\n",
        "- Resuelva los puntos en el espacio provisto. Si requiere agregar más celdas para código o escritura, hágalo (`Esc`,`B`) o (`Esc`,`A`).\n",
        "- Recuerde que también se está evaluando su **capacidad de interpretar los resultados**. Escriba sus interpretaciones/conclusiones en celdas utilizando *Markdown*.\n",
        "- El formato de presentación de todo el examen en general debe ser adecuado. Use tamaños de letra, colores, etiquetas, etcétera.\n",
        "- No se resuelven dudas de ningún tipo por los profesores de la asignatura. Por favor, absténgase de preguntar."
      ]
    },
    {
      "cell_type": "markdown",
      "id": "1ddd61c6",
      "metadata": {
        "id": "1ddd61c6"
      },
      "source": [
        "---\n",
        "# Primer punto. Optimización de funciones con `SymPy` (3.4 puntos)\n",
        "\n",
        "**Volumen mínimo**. Considere un cono circular recto circunscrito en una esfera de radio $r$:"
      ]
    },
    {
      "cell_type": "code",
      "execution_count": null,
      "id": "31020885",
      "metadata": {
        "id": "31020885",
        "outputId": "0948c328-b1cb-4dae-f1d8-a7fab4972dbb",
        "colab": {
          "base_uri": "https://localhost:8080/",
          "height": 406
        }
      },
      "outputs": [
        {
          "output_type": "display_data",
          "data": {
            "text/plain": [
              "<Figure size 640x480 with 1 Axes>"
            ],
            "image/png": "[encoded data removed]"
          },
          "metadata": {}
        }
      ],
      "source": [
        "#@markdown\n",
        "import numpy as np\n",
        "import matplotlib.pyplot as plt\n",
        "import matplotlib.patches as patches\n",
        "%matplotlib inline\n",
        "\n",
        "B1 = patches.Arc((0, 0), 2,0.3,theta2=180,fc='None',ls='--',color='k')\n",
        "B2 = patches.Arc((0, 0), 2,0.3,theta1=180,fc='None',color='k')\n",
        "C = patches.Circle((0, 0.6), 0.6,fc='None',lw=2,color='k');\n",
        "ax = plt.gca()\n",
        "ax.add_artist(B1)\n",
        "ax.add_artist(B2)\n",
        "ax.add_artist(C)\n",
        "\n",
        "plt.plot([1,0,-1],[0,2,0],'k')\n",
        "plt.plot([0,0],[0,2],'--r')\n",
        "plt.plot([-0.2,0],[0,0],'--k')\n",
        "plt.plot([-0.2,0],[2,2],'--k')\n",
        "plt.plot([-0.14,-0.14],[0,0.9],'--k')\n",
        "plt.plot([-0.14,-0.14],[1.1,2],'--k')\n",
        "plt.plot([0,0.55],[0.6,0.9],'--r')\n",
        "plt.scatter([0,0.55],[0.6,0.9],c='k')\n",
        "plt.plot([0,1],[0,0],'--k')\n",
        "\n",
        "plt.text(-0.18,0.95,'h')\n",
        "plt.text(0.2,0.8,'$r$')\n",
        "\n",
        "plt.axis([-2.1,2.1,-0.5,2.1])\n",
        "plt.axis('off')\n",
        "plt.show()"
      ]
    },
    {
      "cell_type": "markdown",
      "id": "f771f557",
      "metadata": {
        "id": "f771f557"
      },
      "source": [
        "1. Escriba el volumen $V$ del cono como una función de la altura $h$. Realice este punto usando fórmulas de $\\LaTeX$, en celdas *Markdown*. (1.4 puntos)"
      ]
    },
    {
      "cell_type": "markdown",
      "source": [
        "R = radio cono \\\n",
        "r = radio esfera\n",
        "$$V=\\frac{\\pi R^2h}{3}$$\n",
        "$$\\frac{R}{r}= \\frac{h}{\\sqrt(h(h-2r))}$$\n",
        "$$R^2=\\frac{r^2 h}{h-2r}$$\n",
        "$$V(h)=\\frac{\\pi r^2}{3}*\\frac{h^2}{h-2r}$$\n"
      ],
      "metadata": {
        "id": "nlon3WlAxOhf"
      },
      "id": "nlon3WlAxOhf"
    },
    {
      "cell_type": "markdown",
      "id": "a857727d",
      "metadata": {
        "id": "a857727d"
      },
      "source": [
        "2. Determinar el valor de $h$ que minimiza el volumen para un radio $r=2$. (1 punto)"
      ]
    },
    {
      "cell_type": "code",
      "execution_count": 4,
      "id": "21c69262",
      "metadata": {
        "id": "21c69262",
        "colab": {
          "base_uri": "https://localhost:8080/"
        },
        "outputId": "b234a53a-6cde-4aa0-8c4d-d5a856197be1"
      },
      "outputs": [
        {
          "output_type": "execute_result",
          "data": {
            "text/plain": [
              "[0, 8]"
            ]
          },
          "metadata": {},
          "execution_count": 4
        }
      ],
      "source": [
        "import sympy as sym\n",
        "from sympy import pi\n",
        "\n",
        "h=sym.Symbol('h')\n",
        "r = 2\n",
        "V=(pi*r**2/3)*((h**2)/(h-2*r))\n",
        "derV=sym.diff(V,h)\n",
        "sol=sym.solve(derV,h)\n",
        "sol"
      ]
    },
    {
      "cell_type": "markdown",
      "id": "f5aec783",
      "metadata": {
        "id": "f5aec783"
      },
      "source": [
        "3. ¿Cuál es el área mínima del cono? (1 punto)"
      ]
    },
    {
      "cell_type": "code",
      "execution_count": 1,
      "id": "9fe34417",
      "metadata": {
        "id": "9fe34417",
        "colab": {
          "base_uri": "https://localhost:8080/",
          "height": 39
        },
        "outputId": "e3d29717-1698-4c02-c5a4-2620a0611ae9"
      },
      "outputs": [
        {
          "output_type": "execute_result",
          "data": {
            "text/plain": [
              "32.0*pi"
            ],
            "text/latex": "$\\displaystyle 32.0 \\pi$"
          },
          "metadata": {},
          "execution_count": 1
        }
      ],
      "source": [
        "import sympy as sym\n",
        "from sympy import pi\n",
        "\n",
        "r=2\n",
        "hmin=8\n",
        "R2=(r**2*hmin)/(hmin-2*r)\n",
        "Rb=sym.sqrt(R2)\n",
        "L=sym.sqrt(R2+hmin**2)\n",
        "Amin=pi*Rb*(Rb+L)\n",
        "Amin\n",
        "\n"
      ]
    },
    {
      "cell_type": "markdown",
      "id": "2247cd32",
      "metadata": {
        "id": "2247cd32"
      },
      "source": [
        "---\n",
        "# Segundo punto. Programación lineal (3.4 puntos)\n",
        "Una fábrica de confitería está interesada en mezclar tres de sus marcas principales de golosinas (M1, M2, M3) para obtener tres nuevos productos (P1, P2, P3), que desea vender al precio de 4,3,2 u.m. por caja, respectivamente.\n",
        "La empresa puede importar 2000 cajas de M1, 4000 de la M2 y 1000 de la M3, siendo el precio que debe pagar de 3,2 y 1 u.m. por cada tipo de caja.\n",
        "\n",
        "El proveedor solicita que el Producto 1 (P1) contenga como mínimo el 80% de M1 y como máximo el 20% de M3. El producto 2 (P2) deberá contener como mínimo el 20% de M1 y no más del 80% de M3. El producto 3 (P3) no podrá contener más del 70% de M3.\n",
        "\n",
        "Encuentre la combinación que le genere el **máximo** beneficio (precio de venta menos el costo).\n",
        "\n",
        "Use las variables $x_{ij}$: Como la cantidad de la marca $i$ en el producto $j$."
      ]
    },
    {
      "cell_type": "markdown",
      "id": "a8ca410b",
      "metadata": {
        "id": "a8ca410b"
      },
      "source": [
        "1. Escriba la función objetivo a **minimizar** junto con las restricciones, explicando detalladamente cada paso (usando fórmulas de $\\LaTeX$, en celdas Markdown). Además escriba el problema en la forma\n",
        "\\begin{equation}\n",
        "\\begin{array}{ll}\n",
        "\\min_{\\boldsymbol{x}} & \\boldsymbol{c}^T\\boldsymbol{x} \\\\\n",
        "\\text{s. a. }        & \\boldsymbol{A}_{eq}\\boldsymbol{x}=\\boldsymbol{b}_{eq} \\\\\n",
        "                     & \\boldsymbol{A}\\boldsymbol{x}\\leq\\boldsymbol{b},\n",
        "\\end{array}\\qquad\\text{(2.2 puntos)}\n",
        "\\end{equation}"
      ]
    },
    {
      "cell_type": "markdown",
      "source": [
        "Tres marcas de Dulces: M1, M2, M3 \\\n",
        "Compra marcas (u. m.): M1=3, M2=2, M3=1 \\\n",
        "Importar: M1=2000, M2=4000, M3=1000 \\\n",
        "Tres productos: P1, P2, P3 \\\n",
        "Composición: P1 = M1>80 M3<20, P2 = M1>20 M3<80, P3 = M3>70 \\\n",
        "Venta productos (u. m.): P1=4, P2=3, P1=2 \\\n",
        "Compra: P1=3, P2=2, P3=1 \\\n",
        "$x_{ij}$ = Cantidad de la marca $i$ en el producto $j$.\n",
        "\\\n",
        "\\\n",
        "$i$ = 1, 2, 3 (M1, M2, M3)\\\n",
        "$j$ = 1, 2, 3 (P1, P2, P3)\\\n",
        "$$y_j = \\sum_{i=1}^{3} x_{ij}$$\n",
        "\n",
        "$$P1=4y_1$$\n",
        "$$P2=3y_2$$\n",
        "$$P1=2y_3$$\n",
        "\n",
        "$$M1= 3 \\sum_{j=1} x_{1j}$$\n",
        "$$M2= 2 \\sum_{j=1} x_{2j}$$\n",
        "$$M3= 1 \\sum_{j=1} x_{3j}$$\n",
        "\n",
        "$$Beneficio (B)= 4y_1 + 3y_2 + 2y_3 - (3 \\sum_{j=1} x_{1j} + 2 \\sum_{j=1} x_{2j} + 1 \\sum_{j=1} x_{3j})$$\n",
        "Con costos\n",
        "$$B=\\sum_{i=1}^{3} \\sum_{j=1}^{3}  c_{ij} x_{ij}$$\n",
        "\\\n",
        "$$c_{ij} =\n",
        "\\begin{pmatrix}\n",
        "4-3 & 3-3 & 2-3 \\\\\n",
        "4-2 & 3-2 & 2-2 \\\\\n",
        "4-1 & 3-1 & 2-1\n",
        "\\end{pmatrix}\n",
        "=\n",
        "\\begin{pmatrix}\n",
        "1 & 0 & -1 \\\\\n",
        "2 & 1 & 0 \\\\\n",
        "3 & 2 & 1\n",
        "\\end{pmatrix}\n",
        "$$\n",
        "\n",
        "$$B = 1\\,x_{11} + 0\\,x_{12} - 1\\,x_{13} + 2\\,x_{21} + 1\\,x_{22} + 0\\,x_{23} + 3\\,x_{31} + 2\\,x_{32} + 1\\,x_{33}$$\n",
        "$$Minimizar: Z = -B$$\n",
        "\n",
        "$$Restricciones:\\begin{cases}\n",
        "x_{11} + x_{12} + x_{13} \\le 2000,\\\\\n",
        "x_{21} + x_{22} + x_{23} \\le 4000,\\\\\n",
        "x_{31} + x_{32} + x_{33} \\le 1000.\n",
        "\\end{cases}$$\n",
        "\n",
        "$$P1=x_{11} \\ge 0.8 \\,(x_{11} + x_{21} + x_{31}),\n",
        "x_{31} \\le 0.2 \\,(x_{11} + x_{21} + x_{31})$$\n",
        "$$P2=x_{12} \\ge 0.2 \\,(x_{12} + x_{22} + x_{32}),\n",
        "x_{32} \\le 0.8 \\,(x_{12} + x_{22} + x_{32})$$\n",
        "$$P3=x_{33} \\le 0.7 \\,(x_{13} + x_{23} + x_{33})$$\n",
        "\\\n",
        "$$x_{ij} \\ge 0$$\n",
        "\n",
        "\n",
        "\n",
        "\n",
        "\n",
        "\n",
        "\n",
        "\n",
        "\n"
      ],
      "metadata": {
        "id": "g7pwn_rgeUPh"
      },
      "id": "g7pwn_rgeUPh"
    },
    {
      "cell_type": "markdown",
      "id": "11f14b6d",
      "metadata": {
        "id": "11f14b6d"
      },
      "source": [
        "2. Resuelva el problema utilizando la función `linprog`. ¿Cuál es la combinación óptima para cada producto?, ¿Cuál es el beneficio que se genera? (1.2 puntos)"
      ]
    },
    {
      "cell_type": "code",
      "execution_count": 13,
      "id": "1db88380",
      "metadata": {
        "id": "1db88380",
        "colab": {
          "base_uri": "https://localhost:8080/"
        },
        "outputId": "4db5e851-b03c-455c-90e0-e6f0c21b9937"
      },
      "outputs": [
        {
          "output_type": "stream",
          "name": "stdout",
          "text": [
            "        message: Optimization terminated successfully. (HiGHS Status 7: Optimal)\n",
            "        success: True\n",
            "         status: 0\n",
            "            fun: -15000.0\n",
            "              x: [ 0.000e+00  0.000e+00  2.000e+03  0.000e+00  0.000e+00\n",
            "                   4.000e+03  0.000e+00  0.000e+00  1.000e+03]\n",
            "            nit: 0\n",
            "          lower:  residual: [ 0.000e+00  0.000e+00  2.000e+03  0.000e+00\n",
            "                              0.000e+00  4.000e+03  0.000e+00  0.000e+00\n",
            "                              1.000e+03]\n",
            "                 marginals: [ 2.000e+00  1.000e+00  0.000e+00  2.000e+00\n",
            "                              1.000e+00  0.000e+00  2.000e+00  1.000e+00\n",
            "                              0.000e+00]\n",
            "          upper:  residual: [       inf        inf        inf        inf\n",
            "                                    inf        inf        inf        inf\n",
            "                                    inf]\n",
            "                 marginals: [ 0.000e+00  0.000e+00  0.000e+00  0.000e+00\n",
            "                              0.000e+00  0.000e+00  0.000e+00  0.000e+00\n",
            "                              0.000e+00]\n",
            "          eqlin:  residual: []\n",
            "                 marginals: []\n",
            "        ineqlin:  residual: [ 0.000e+00  0.000e+00  0.000e+00  0.000e+00\n",
            "                              0.000e+00  0.000e+00  0.000e+00  3.900e+03]\n",
            "                 marginals: [-3.000e+00 -2.000e+00 -1.000e+00 -0.000e+00\n",
            "                             -0.000e+00 -0.000e+00 -0.000e+00 -0.000e+00]\n",
            " mip_node_count: 0\n",
            " mip_dual_bound: 0.0\n",
            "        mip_gap: 0.0\n",
            "15000.0\n",
            "[   0.    0. 2000.    0.    0. 4000.    0.    0. 1000.]\n"
          ]
        }
      ],
      "source": [
        "import numpy as np\n",
        "from scipy.optimize import linprog\n",
        "import scipy.optimize as opt\n",
        "\n",
        "c=np.array([-1, -2, -3, 0, -1, -2, 1, 0, -1])\n",
        "a=np.array([[1,1,1,0,0,0,0,0,0],      #m1\n",
        "            [0,0,0,1,1,1,0,0,0],      #m2\n",
        "            [0,0,0,0,0,0,1,1,1],      #m3\n",
        "                  #P1\n",
        "            [-0.2, 0, 0, 0.8, 0, 0, 0.8, 0, 0],\n",
        "            [-0.2, 0, 0,-0.2, 0, 0, 0.8, 0, 0],\n",
        "                  #P2\n",
        "            [0, -0.8, 0, 0, 0.2, 0, 0, 0.2, 0],\n",
        "            [0, -0.8, 0, 0,-0.8, 0, 0, 0.2, 0],\n",
        "                  #P3\n",
        "            [0, 0, -0.7, 0, 0, -0.7, 0, 0, 0.3]\n",
        "])\n",
        "\n",
        "b=np.array([2000,4000,1000,0,0,0,0,0])\n",
        "lim=(0,None)\n",
        "r=linprog(c=c, A_ub=a, b_ub=b,bounds=lim)\n",
        "max=-r.fun\n",
        "print(r)\n",
        "print(max)\n",
        "print(r.x)"
      ]
    },
    {
      "cell_type": "markdown",
      "source": [
        "Beneficio Máximo = 1500 u. m. \\\n",
        "Hacer P3"
      ],
      "metadata": {
        "id": "mv6tdSjqP5lq"
      },
      "id": "mv6tdSjqP5lq"
    },
    {
      "cell_type": "markdown",
      "id": "510ce02e",
      "metadata": {
        "id": "510ce02e"
      },
      "source": [
        "---\n",
        "# Tercer punto. Ajuste de curvas (3.4 puntos)\n",
        "Los siguientes datos extraidos de Administrative Office of the U.S. Courts, representan el número de bancarrotas en miles entre los años 1988 y 2001."
      ]
    },
    {
      "cell_type": "code",
      "execution_count": 4,
      "id": "141912dd",
      "metadata": {
        "id": "141912dd",
        "outputId": "a8234adf-1784-4b38-bcd6-dcba24a8c6db",
        "colab": {
          "base_uri": "https://localhost:8080/",
          "height": 554
        }
      },
      "outputs": [
        {
          "output_type": "stream",
          "name": "stderr",
          "text": [
            "/tmp/ipython-input-1613858795.py:3: FutureWarning: 'Y' is deprecated and will be removed in a future version, please use 'YE' instead.\n",
            "  date_rng=pd.date_range(start='1/1/1988', end='31/12/2001', freq='Y')\n"
          ]
        },
        {
          "output_type": "execute_result",
          "data": {
            "text/plain": [
              "            values\n",
              "date              \n",
              "1988-12-31   594.6\n",
              "1989-12-31   643.0\n",
              "1990-12-31   725.5\n",
              "1991-12-31   880.4\n",
              "1992-12-31   972.5\n",
              "1993-12-31   918.7\n",
              "1994-12-31   845.3\n",
              "1995-12-31   858.1\n",
              "1996-12-31  1042.1\n",
              "1997-12-31  1317.0\n",
              "1998-12-31  1429.5\n",
              "1999-12-31  1392.0\n",
              "2000-12-31  1277.0\n",
              "2001-12-31  1386.6"
            ],
            "text/html": [
              "\n",
              "  <div id=\"df-9b2e9001-70ee-490f-b195-402286533396\" class=\"colab-df-container\">\n",
              "    <div>\n",
              "<style scoped>\n",
              "    .dataframe tbody tr th:only-of-type {\n",
              "        vertical-align: middle;\n",
              "    }\n",
              "\n",
              "    .dataframe tbody tr th {\n",
              "        vertical-align: top;\n",
              "    }\n",
              "\n",
              "    .dataframe thead th {\n",
              "        text-align: right;\n",
              "    }\n",
              "</style>\n",
              "<table border=\"1\" class=\"dataframe\">\n",
              "  <thead>\n",
              "    <tr style=\"text-align: right;\">\n",
              "      <th></th>\n",
              "      <th>values</th>\n",
              "    </tr>\n",
              "    <tr>\n",
              "      <th>date</th>\n",
              "      <th></th>\n",
              "    </tr>\n",
              "  </thead>\n",
              "  <tbody>\n",
              "    <tr>\n",
              "      <th>1988-12-31</th>\n",
              "      <td>594.6</td>\n",
              "    </tr>\n",
              "    <tr>\n",
              "      <th>1989-12-31</th>\n",
              "      <td>643.0</td>\n",
              "    </tr>\n",
              "    <tr>\n",
              "      <th>1990-12-31</th>\n",
              "      <td>725.5</td>\n",
              "    </tr>\n",
              "    <tr>\n",
              "      <th>1991-12-31</th>\n",
              "      <td>880.4</td>\n",
              "    </tr>\n",
              "    <tr>\n",
              "      <th>1992-12-31</th>\n",
              "      <td>972.5</td>\n",
              "    </tr>\n",
              "    <tr>\n",
              "      <th>1993-12-31</th>\n",
              "      <td>918.7</td>\n",
              "    </tr>\n",
              "    <tr>\n",
              "      <th>1994-12-31</th>\n",
              "      <td>845.3</td>\n",
              "    </tr>\n",
              "    <tr>\n",
              "      <th>1995-12-31</th>\n",
              "      <td>858.1</td>\n",
              "    </tr>\n",
              "    <tr>\n",
              "      <th>1996-12-31</th>\n",
              "      <td>1042.1</td>\n",
              "    </tr>\n",
              "    <tr>\n",
              "      <th>1997-12-31</th>\n",
              "      <td>1317.0</td>\n",
              "    </tr>\n",
              "    <tr>\n",
              "      <th>1998-12-31</th>\n",
              "      <td>1429.5</td>\n",
              "    </tr>\n",
              "    <tr>\n",
              "      <th>1999-12-31</th>\n",
              "      <td>1392.0</td>\n",
              "    </tr>\n",
              "    <tr>\n",
              "      <th>2000-12-31</th>\n",
              "      <td>1277.0</td>\n",
              "    </tr>\n",
              "    <tr>\n",
              "      <th>2001-12-31</th>\n",
              "      <td>1386.6</td>\n",
              "    </tr>\n",
              "  </tbody>\n",
              "</table>\n",
              "</div>\n",
              "    <div class=\"colab-df-buttons\">\n",
              "\n",
              "  <div class=\"colab-df-container\">\n",
              "    <button class=\"colab-df-convert\" onclick=\"convertToInteractive('df-9b2e9001-70ee-490f-b195-402286533396')\"\n",
              "            title=\"Convert this dataframe to an interactive table.\"\n",
              "            style=\"display:none;\">\n",
              "\n",
              "  <svg xmlns=\"http://www.w3.org/2000/svg\" height=\"24px\" viewBox=\"0 -960 960 960\">\n",
              "    <path d=\"M120-120v-720h720v720H120Zm60-500h600v-160H180v160Zm220 220h160v-160H400v160Zm0 220h160v-160H400v160ZM180-400h160v-160H180v160Zm440 0h160v-160H620v160ZM180-180h160v-160H180v160Zm440 0h160v-160H620v160Z\"/>\n",
              "  </svg>\n",
              "    </button>\n",
              "\n",
              "  <style>\n",
              "    .colab-df-container {\n",
              "      display:flex;\n",
              "      gap: 12px;\n",
              "    }\n",
              "\n",
              "    .colab-df-convert {\n",
              "      background-color: #E8F0FE;\n",
              "      border: none;\n",
              "      border-radius: 50%;\n",
              "      cursor: pointer;\n",
              "      display: none;\n",
              "      fill: #1967D2;\n",
              "      height: 32px;\n",
              "      padding: 0 0 0 0;\n",
              "      width: 32px;\n",
              "    }\n",
              "\n",
              "    .colab-df-convert:hover {\n",
              "      background-color: #E2EBFA;\n",
              "      box-shadow: 0px 1px 2px rgba(60, 64, 67, 0.3), 0px 1px 3px 1px rgba(60, 64, 67, 0.15);\n",
              "      fill: #174EA6;\n",
              "    }\n",
              "\n",
              "    .colab-df-buttons div {\n",
              "      margin-bottom: 4px;\n",
              "    }\n",
              "\n",
              "    [theme=dark] .colab-df-convert {\n",
              "      background-color: #3B4455;\n",
              "      fill: #D2E3FC;\n",
              "    }\n",
              "\n",
              "    [theme=dark] .colab-df-convert:hover {\n",
              "      background-color: #434B5C;\n",
              "      box-shadow: 0px 1px 3px 1px rgba(0, 0, 0, 0.15);\n",
              "      filter: drop-shadow(0px 1px 2px rgba(0, 0, 0, 0.3));\n",
              "      fill: #FFFFFF;\n",
              "    }\n",
              "  </style>\n",
              "\n",
              "    <script>\n",
              "      const buttonEl =\n",
              "        document.querySelector('#df-9b2e9001-70ee-490f-b195-402286533396 button.colab-df-convert');\n",
              "      buttonEl.style.display =\n",
              "        google.colab.kernel.accessAllowed ? 'block' : 'none';\n",
              "\n",
              "      async function convertToInteractive(key) {\n",
              "        const element = document.querySelector('#df-9b2e9001-70ee-490f-b195-402286533396');\n",
              "        const dataTable =\n",
              "          await google.colab.kernel.invokeFunction('convertToInteractive',\n",
              "                                                    [key], {});\n",
              "        if (!dataTable) return;\n",
              "\n",
              "        const docLinkHtml = 'Like what you see? Visit the ' +\n",
              "          '<a target=\"_blank\" href=https://colab.research.google.com/notebooks/data_table.ipynb>data table notebook</a>'\n",
              "          + ' to learn more about interactive tables.';\n",
              "        element.innerHTML = '';\n",
              "        dataTable['output_type'] = 'display_data';\n",
              "        await google.colab.output.renderOutput(dataTable, element);\n",
              "        const docLink = document.createElement('div');\n",
              "        docLink.innerHTML = docLinkHtml;\n",
              "        element.appendChild(docLink);\n",
              "      }\n",
              "    </script>\n",
              "  </div>\n",
              "\n",
              "\n",
              "    <div id=\"df-83d39f5d-288b-47ae-b934-a0b0e26b7e7a\">\n",
              "      <button class=\"colab-df-quickchart\" onclick=\"quickchart('df-83d39f5d-288b-47ae-b934-a0b0e26b7e7a')\"\n",
              "                title=\"Suggest charts\"\n",
              "                style=\"display:none;\">\n",
              "\n",
              "<svg xmlns=\"http://www.w3.org/2000/svg\" height=\"24px\"viewBox=\"0 0 24 24\"\n",
              "     width=\"24px\">\n",
              "    <g>\n",
              "        <path d=\"M19 3H5c-1.1 0-2 .9-2 2v14c0 1.1.9 2 2 2h14c1.1 0 2-.9 2-2V5c0-1.1-.9-2-2-2zM9 17H7v-7h2v7zm4 0h-2V7h2v10zm4 0h-2v-4h2v4z\"/>\n",
              "    </g>\n",
              "</svg>\n",
              "      </button>\n",
              "\n",
              "<style>\n",
              "  .colab-df-quickchart {\n",
              "      --bg-color: #E8F0FE;\n",
              "      --fill-color: #1967D2;\n",
              "      --hover-bg-color: #E2EBFA;\n",
              "      --hover-fill-color: #174EA6;\n",
              "      --disabled-fill-color: #AAA;\n",
              "      --disabled-bg-color: #DDD;\n",
              "  }\n",
              "\n",
              "  [theme=dark] .colab-df-quickchart {\n",
              "      --bg-color: #3B4455;\n",
              "      --fill-color: #D2E3FC;\n",
              "      --hover-bg-color: #434B5C;\n",
              "      --hover-fill-color: #FFFFFF;\n",
              "      --disabled-bg-color: #3B4455;\n",
              "      --disabled-fill-color: #666;\n",
              "  }\n",
              "\n",
              "  .colab-df-quickchart {\n",
              "    background-color: var(--bg-color);\n",
              "    border: none;\n",
              "    border-radius: 50%;\n",
              "    cursor: pointer;\n",
              "    display: none;\n",
              "    fill: var(--fill-color);\n",
              "    height: 32px;\n",
              "    padding: 0;\n",
              "    width: 32px;\n",
              "  }\n",
              "\n",
              "  .colab-df-quickchart:hover {\n",
              "    background-color: var(--hover-bg-color);\n",
              "    box-shadow: 0 1px 2px rgba(60, 64, 67, 0.3), 0 1px 3px 1px rgba(60, 64, 67, 0.15);\n",
              "    fill: var(--button-hover-fill-color);\n",
              "  }\n",
              "\n",
              "  .colab-df-quickchart-complete:disabled,\n",
              "  .colab-df-quickchart-complete:disabled:hover {\n",
              "    background-color: var(--disabled-bg-color);\n",
              "    fill: var(--disabled-fill-color);\n",
              "    box-shadow: none;\n",
              "  }\n",
              "\n",
              "  .colab-df-spinner {\n",
              "    border: 2px solid var(--fill-color);\n",
              "    border-color: transparent;\n",
              "    border-bottom-color: var(--fill-color);\n",
              "    animation:\n",
              "      spin 1s steps(1) infinite;\n",
              "  }\n",
              "\n",
              "  @keyframes spin {\n",
              "    0% {\n",
              "      border-color: transparent;\n",
              "      border-bottom-color: var(--fill-color);\n",
              "      border-left-color: var(--fill-color);\n",
              "    }\n",
              "    20% {\n",
              "      border-color: transparent;\n",
              "      border-left-color: var(--fill-color);\n",
              "      border-top-color: var(--fill-color);\n",
              "    }\n",
              "    30% {\n",
              "      border-color: transparent;\n",
              "      border-left-color: var(--fill-color);\n",
              "      border-top-color: var(--fill-color);\n",
              "      border-right-color: var(--fill-color);\n",
              "    }\n",
              "    40% {\n",
              "      border-color: transparent;\n",
              "      border-right-color: var(--fill-color);\n",
              "      border-top-color: var(--fill-color);\n",
              "    }\n",
              "    60% {\n",
              "      border-color: transparent;\n",
              "      border-right-color: var(--fill-color);\n",
              "    }\n",
              "    80% {\n",
              "      border-color: transparent;\n",
              "      border-right-color: var(--fill-color);\n",
              "      border-bottom-color: var(--fill-color);\n",
              "    }\n",
              "    90% {\n",
              "      border-color: transparent;\n",
              "      border-bottom-color: var(--fill-color);\n",
              "    }\n",
              "  }\n",
              "</style>\n",
              "\n",
              "      <script>\n",
              "        async function quickchart(key) {\n",
              "          const quickchartButtonEl =\n",
              "            document.querySelector('#' + key + ' button');\n",
              "          quickchartButtonEl.disabled = true;  // To prevent multiple clicks.\n",
              "          quickchartButtonEl.classList.add('colab-df-spinner');\n",
              "          try {\n",
              "            const charts = await google.colab.kernel.invokeFunction(\n",
              "                'suggestCharts', [key], {});\n",
              "          } catch (error) {\n",
              "            console.error('Error during call to suggestCharts:', error);\n",
              "          }\n",
              "          quickchartButtonEl.classList.remove('colab-df-spinner');\n",
              "          quickchartButtonEl.classList.add('colab-df-quickchart-complete');\n",
              "        }\n",
              "        (() => {\n",
              "          let quickchartButtonEl =\n",
              "            document.querySelector('#df-83d39f5d-288b-47ae-b934-a0b0e26b7e7a button');\n",
              "          quickchartButtonEl.style.display =\n",
              "            google.colab.kernel.accessAllowed ? 'block' : 'none';\n",
              "        })();\n",
              "      </script>\n",
              "    </div>\n",
              "\n",
              "  <div id=\"id_2dcee10f-a039-43dd-b361-afa16e4d3b1d\">\n",
              "    <style>\n",
              "      .colab-df-generate {\n",
              "        background-color: #E8F0FE;\n",
              "        border: none;\n",
              "        border-radius: 50%;\n",
              "        cursor: pointer;\n",
              "        display: none;\n",
              "        fill: #1967D2;\n",
              "        height: 32px;\n",
              "        padding: 0 0 0 0;\n",
              "        width: 32px;\n",
              "      }\n",
              "\n",
              "      .colab-df-generate:hover {\n",
              "        background-color: #E2EBFA;\n",
              "        box-shadow: 0px 1px 2px rgba(60, 64, 67, 0.3), 0px 1px 3px 1px rgba(60, 64, 67, 0.15);\n",
              "        fill: #174EA6;\n",
              "      }\n",
              "\n",
              "      [theme=dark] .colab-df-generate {\n",
              "        background-color: #3B4455;\n",
              "        fill: #D2E3FC;\n",
              "      }\n",
              "\n",
              "      [theme=dark] .colab-df-generate:hover {\n",
              "        background-color: #434B5C;\n",
              "        box-shadow: 0px 1px 3px 1px rgba(0, 0, 0, 0.15);\n",
              "        filter: drop-shadow(0px 1px 2px rgba(0, 0, 0, 0.3));\n",
              "        fill: #FFFFFF;\n",
              "      }\n",
              "    </style>\n",
              "    <button class=\"colab-df-generate\" onclick=\"generateWithVariable('ban')\"\n",
              "            title=\"Generate code using this dataframe.\"\n",
              "            style=\"display:none;\">\n",
              "\n",
              "  <svg xmlns=\"http://www.w3.org/2000/svg\" height=\"24px\"viewBox=\"0 0 24 24\"\n",
              "       width=\"24px\">\n",
              "    <path d=\"M7,19H8.4L18.45,9,17,7.55,7,17.6ZM5,21V16.75L18.45,3.32a2,2,0,0,1,2.83,0l1.4,1.43a1.91,1.91,0,0,1,.58,1.4,1.91,1.91,0,0,1-.58,1.4L9.25,21ZM18.45,9,17,7.55Zm-12,3A5.31,5.31,0,0,0,4.9,8.1,5.31,5.31,0,0,0,1,6.5,5.31,5.31,0,0,0,4.9,4.9,5.31,5.31,0,0,0,6.5,1,5.31,5.31,0,0,0,8.1,4.9,5.31,5.31,0,0,0,12,6.5,5.46,5.46,0,0,0,6.5,12Z\"/>\n",
              "  </svg>\n",
              "    </button>\n",
              "    <script>\n",
              "      (() => {\n",
              "      const buttonEl =\n",
              "        document.querySelector('#id_2dcee10f-a039-43dd-b361-afa16e4d3b1d button.colab-df-generate');\n",
              "      buttonEl.style.display =\n",
              "        google.colab.kernel.accessAllowed ? 'block' : 'none';\n",
              "\n",
              "      buttonEl.onclick = () => {\n",
              "        google.colab.notebook.generateWithVariable('ban');\n",
              "      }\n",
              "      })();\n",
              "    </script>\n",
              "  </div>\n",
              "\n",
              "    </div>\n",
              "  </div>\n"
            ],
            "application/vnd.google.colaboratory.intrinsic+json": {
              "type": "dataframe",
              "variable_name": "ban",
              "summary": "{\n  \"name\": \"ban\",\n  \"rows\": 14,\n  \"fields\": [\n    {\n      \"column\": \"date\",\n      \"properties\": {\n        \"dtype\": \"date\",\n        \"min\": \"1988-12-31 00:00:00\",\n        \"max\": \"2001-12-31 00:00:00\",\n        \"num_unique_values\": 14,\n        \"samples\": [\n          \"1997-12-31 00:00:00\",\n          \"1999-12-31 00:00:00\",\n          \"1988-12-31 00:00:00\"\n        ],\n        \"semantic_type\": \"\",\n        \"description\": \"\"\n      }\n    },\n    {\n      \"column\": \"values\",\n      \"properties\": {\n        \"dtype\": \"number\",\n        \"std\": 290.0633952117334,\n        \"min\": 594.6,\n        \"max\": 1429.5,\n        \"num_unique_values\": 14,\n        \"samples\": [\n          1317.0,\n          1392.0,\n          594.6\n        ],\n        \"semantic_type\": \"\",\n        \"description\": \"\"\n      }\n    }\n  ]\n}"
            }
          },
          "metadata": {},
          "execution_count": 4
        }
      ],
      "source": [
        "import pandas as pd\n",
        "\n",
        "date_rng=pd.date_range(start='1/1/1988', end='31/12/2001', freq='Y')\n",
        "ban=pd.DataFrame(date_rng, columns=['date'])\n",
        "ban = ban.set_index('date')\n",
        "ban['values'] = np.array([594.6,643.0,725.5,880.4,972.5,918.7,845.3,858.1,\n",
        "                           1042.1,1317.0,1429.5,1392.0,1277.0,1386.6])\n",
        "ban"
      ]
    },
    {
      "cell_type": "markdown",
      "id": "5fa0b0ec",
      "metadata": {
        "id": "5fa0b0ec"
      },
      "source": [
        "1. Ajuste los salarios con polinomios de grado 1 a 5 y muestre los errores cuadráticos de forma gráfica, ¿Qué polinómio se ajusta mejor? (2 puntos)"
      ]
    },
    {
      "cell_type": "code",
      "execution_count": 29,
      "id": "b7eab7c7",
      "metadata": {
        "id": "b7eab7c7",
        "colab": {
          "base_uri": "https://localhost:8080/",
          "height": 1000
        },
        "outputId": "7e91ce5c-a808-4dcb-c6c8-b5a161b43e5a"
      },
      "outputs": [
        {
          "output_type": "display_data",
          "data": {
            "text/plain": [
              "<Figure size 640x480 with 1 Axes>"
            ],
            "image/png": "[encoded data removed]"
          },
          "metadata": {}
        },
        {
          "output_type": "display_data",
          "data": {
            "text/plain": [
              "<Figure size 640x480 with 1 Axes>"
            ],
            "image/png": "[encoded data removed]"
          },
          "metadata": {}
        },
        {
          "output_type": "stream",
          "name": "stdout",
          "text": [
            "Grado 1 : [-1.27053709e+05  6.42135240e+01]\n",
            "Grado 2 : [ 5.02673743e-01 -5.95964047e+01  3.01366205e-02]\n",
            "Grado 3 : [ 3.05338124e-01  6.80646458e-01  5.93331153e-01 -2.97521539e-04]\n",
            "Grado 4 : [ 3.29998648e-01  2.41569948e-01  5.41810123e-01  5.87811744e-01\n",
            " -2.94845275e-04]\n",
            "Grado 5 : [ 4.48208615e-01  5.95930737e-01  8.55907033e-01  9.13280130e-01\n",
            "  5.93108109e-01 -2.97586287e-04]\n"
          ]
        }
      ],
      "source": [
        "import numpy as np\n",
        "import pandas as pd\n",
        "import matplotlib.pyplot as plt\n",
        "import scipy.optimize as opt\n",
        "\n",
        "years = np.arange(1988, 2002)\n",
        "bankruptcies = np.array([594.6,643.0,725.5,880.4,972.5,918.7,845.3,858.1,\n",
        "                         1042.1,1317.0,1429.5,1392.0,1277.0,1386.6])\n",
        "\n",
        "def fhat(beta, x):\n",
        "    X = np.array([x**i for i in range(len(beta))]).T\n",
        "    return X @ beta\n",
        "\n",
        "def error3(beta, x, y):\n",
        "    return np.sum((y - fhat(beta, x))**2)\n",
        "\n",
        "n = 5\n",
        "sol = []\n",
        "\n",
        "plt.plot(years, bankruptcies, 'ok', ms=5, label='Datos')\n",
        "\n",
        "for i in range(1, n+1):\n",
        "    beta_inicial = np.random.rand(i+1)\n",
        "    sol.append(opt.minimize(error3, beta_inicial, args=(years, bankruptcies)))\n",
        "    f = fhat(sol[-1].x, years)\n",
        "    plt.plot(years, f, label='Grado '+str(i))\n",
        "\n",
        "plt.xlabel('Año')\n",
        "plt.ylabel('Bancarrotas (miles)')\n",
        "plt.title('Bancarrotas 1988-2001')\n",
        "plt.legend()\n",
        "plt.grid()\n",
        "plt.show()\n",
        "\n",
        "plt.plot([i+1 for i in range(n)], [s.fun for s in sol], 'ok-')\n",
        "for i in range(n):\n",
        "    plt.text(i+1.1, sol[i].fun, round(sol[i].fun,2))\n",
        "\n",
        "plt.xlabel('Grado del polinomio')\n",
        "plt.ylabel('Error cuadrático acumulado')\n",
        "plt.title('Grado de polinomio')\n",
        "plt.grid()\n",
        "plt.show()\n",
        "\n",
        "for i in range(n):\n",
        "    print('Grado', i+1, ':', sol[i].x)\n"
      ]
    },
    {
      "cell_type": "markdown",
      "id": "078649f3",
      "metadata": {
        "id": "078649f3"
      },
      "source": [
        "2. Muestre en un gráfico los datos y el polinómio que mejor se ajuste (0.7 puntos)"
      ]
    },
    {
      "cell_type": "code",
      "execution_count": 25,
      "id": "64fcfb5e",
      "metadata": {
        "id": "64fcfb5e",
        "colab": {
          "base_uri": "https://localhost:8080/",
          "height": 501
        },
        "outputId": "c08529bb-7374-4eb0-c46a-7a7ce5769729"
      },
      "outputs": [
        {
          "output_type": "display_data",
          "data": {
            "text/plain": [
              "<Figure size 640x480 with 1 Axes>"
            ],
            "image/png": "[encoded data removed]"
          },
          "metadata": {}
        },
        {
          "output_type": "stream",
          "name": "stdout",
          "text": [
            "Polinomio mejor: 1\n",
            "Error cuadrático: 155674.76\n",
            "Coeficientes: [-1.27053438e+05  6.42133882e+01]\n"
          ]
        }
      ],
      "source": [
        "import numpy as np\n",
        "import pandas as pd\n",
        "import matplotlib.pyplot as plt\n",
        "import scipy.optimize as opt\n",
        "\n",
        "years = np.arange(1988, 2002)\n",
        "bankruptcies = np.array([594.6,643.0,725.5,880.4,972.5,918.7,845.3,858.1,\n",
        "                         1042.1,1317.0,1429.5,1392.0,1277.0,1386.6])\n",
        "\n",
        "def fhat(beta, x):\n",
        "    X = np.array([x**i for i in range(len(beta))]).T\n",
        "    return X @ beta\n",
        "\n",
        "def error3(beta, x, y):\n",
        "    return np.sum((y - fhat(beta, x))**2)\n",
        "\n",
        "n = 5\n",
        "sol = []\n",
        "\n",
        "for i in range(1, n+1):\n",
        "    beta_inicial = np.random.rand(i+1)\n",
        "    sol.append(opt.minimize(error3, beta_inicial, args=(years, bankruptcies)))\n",
        "\n",
        "Mindice = np.argmin([s.fun for s in sol])\n",
        "Mpol = sol[Mindice]\n",
        "Mgrad = Mindice + 1\n",
        "\n",
        "plt.plot(years, bankruptcies, 'ok', ms=5, label='Datos')\n",
        "plt.plot(years, fhat(Mpol.x, years), 'r', label=f'Mejor polinomio (g {Mgrad})')\n",
        "plt.xlabel('Año')\n",
        "plt.ylabel('Bancarrotas (miles)')\n",
        "plt.legend()\n",
        "plt.grid()\n",
        "plt.show()\n",
        "\n",
        "print(f\"Polinomio mejor: {Mgrad}\")\n",
        "print(f\"Error cuadrático: {Mpol.fun:.2f}\")\n",
        "print(f\"Coeficientes: {Mpol.x}\")\n"
      ]
    },
    {
      "cell_type": "markdown",
      "id": "96ab2758",
      "metadata": {
        "id": "96ab2758"
      },
      "source": [
        "3. Usar el modelo para averiguar el número de bancarrotas a mdiados de 1995 y predecirlo para el año 2020. ¿Qué diferencias encuentra en cuanto a la interpolación y la extrapolación? (0.7 puntos)"
      ]
    },
    {
      "cell_type": "code",
      "execution_count": 31,
      "id": "3dd4146b",
      "metadata": {
        "id": "3dd4146b",
        "colab": {
          "base_uri": "https://localhost:8080/"
        },
        "outputId": "dd2d2eec-e3b1-4f36-ee17-80f2066e3777"
      },
      "outputs": [
        {
          "output_type": "stream",
          "name": "stdout",
          "text": [
            "Bancarrotas a mediados de 1995: 1084.38 mil\n",
            "Predicción 2020: 2657.61 mil\n"
          ]
        }
      ],
      "source": [
        "import numpy as np\n",
        "\n",
        "Xinterp = 1995.5\n",
        "Xextra = 2020\n",
        "\n",
        "Binterp = fhat(Mpol.x, np.array([Xinterp]))\n",
        "Bextra = fhat(Mpol.x, np.array([Xextra]))\n",
        "\n",
        "print(f\"Bancarrotas a mediados de 1995: {Binterp[0]:.2f} mil\")\n",
        "print(f\"Predicción 2020: {Bextra[0]:.2f} mil\")\n"
      ]
    }
  ],
  "metadata": {
    "kernelspec": {
      "display_name": "Python 3 (ipykernel)",
      "language": "python",
      "name": "python3"
    },
    "language_info": {
      "codemirror_mode": {
        "name": "ipython",
        "version": 3
      },
      "file_extension": ".py",
      "mimetype": "text/x-python",
      "name": "python",
      "nbconvert_exporter": "python",
      "pygments_lexer": "ipython3",
      "version": "3.11.5"
    },
    "colab": {
      "provenance": [],
      "include_colab_link": true
    }
  },
  "nbformat": 4,
  "nbformat_minor": 5
}