{
  "nbformat": 4,
  "nbformat_minor": 0,
  "metadata": {
    "colab": {
      "provenance": []
    },
    "kernelspec": {
      "name": "python3",
      "display_name": "Python 3"
    },
    "language_info": {
      "name": "python"
    }
  },
  "cells": [
    {
      "cell_type": "code",
      "execution_count": null,
      "metadata": {
        "id": "IursbWBxWc4W",
        "colab": {
          "base_uri": "https://localhost:8080/",
          "height": 141
        },
        "outputId": "832c70ba-a21e-4146-9576-feb304e6a7d6"
      },
      "outputs": [
        {
          "output_type": "error",
          "ename": "SyntaxError",
          "evalue": "leading zeros in decimal integer literals are not permitted; use an 0o prefix for octal integers (ipython-input-497098993.py, line 20)",
          "traceback": [
            "\u001b[0;36m  File \u001b[0;32m\"/tmp/ipython-input-497098993.py\"\u001b[0;36m, line \u001b[0;32m20\u001b[0m\n\u001b[0;31m    Sputnik. (2025, agosto 18). *SoftBank apuesta por semiconductores; invertirá dos mil mdd en Intel*. La Jornada. https://www.jornada.com.mx/noticia/2025/08/18/economia/softbank-apuesta-por-semiconductores-invertira-dos-mil-mdd-en-intel\u001b[0m\n\u001b[0m                                                                                                                                                             ^\u001b[0m\n\u001b[0;31mSyntaxError\u001b[0m\u001b[0;31m:\u001b[0m leading zeros in decimal integer literals are not permitted; use an 0o prefix for octal integers\n"
          ]
        }
      ],
      "source": [
        "#  Presentación Personal\n",
        "- **Nombre:** Eliet\n",
        "- **Edad:** 19\n",
        "- **Carrera:** Ing. Nanotecnología\n",
        "\n",
        "# Artículo\n",
        "## Título\n",
        "SoftBank apuesta por semiconductores; invertirá dos mil mdd en Intel.\n",
        "\n",
        "### Autor\n",
        "Sputnik\n",
        "\n",
        "### Fecha\n",
        "*18 de agosto de 2025*\n",
        "\n",
        "## Resumen\n",
        "La empresa Softbank invertirá 2,000 millones de dólares en acciones de Intel, buscando reforzar la colaboración en el sector de semiconductores. El presidente de Softbank menciona que la inversión refleja la confianza que tienen en la expansión de fabricación de semiconductores a futuro en Estados Unidos.\n",
        "\n",
        "### Referencia:\n",
        "Sputnik. (2025, agosto 18). *SoftBank apuesta por semiconductores; invertirá dos mil mdd en Intel*. La Jornada. https://www.jornada.com.mx/noticia/2025/08/18/economia/softbank-apuesta-por-semiconductores-invertira-dos-mil-mdd-en-intel"
      ]
    },
    {
      "cell_type": "markdown",
      "source": [
        "#  Presentación Personal   \n",
        "- **Nombre:** Eliet\n",
        "- **Edad:** 19   \n",
        "- **Carrera:** Ing. Nanotecnología\n",
        "\n",
        "# Artículo\n",
        "## Título\n",
        "SoftBank apuesta por semiconductores; invertirá dos mil mdd en Intel.   \n",
        "\n",
        "### Autor\n",
        "Sputnik\n",
        "\n",
        "### Fecha  \n",
        "*18 de agosto de 2025*   \n",
        "\n",
        "## Resumen  \n",
        "La empresa Softbank invertirá 2,000 millones de dólares en acciones de Intel, buscando reforzar la colaboración en el sector de semiconductores. El presidente de Softbank menciona que la inversión refleja la confianza que tienen en la expansión de fabricación de semiconductores a futuro en Estados Unidos.\n",
        "\n",
        "### Referencia:\n",
        "Sputnik. (2025, agosto 18). *SoftBank apuesta por semiconductores; invertirá dos mil mdd en Intel*. La Jornada. https://www.jornada.com.mx/noticia/2025/08/18/economia/softbank-apuesta-por-semiconductores-invertira-dos-mil-mdd-en-intel\n",
        "\n",
        "```\n",
        "# This is formatted as code\n",
        "```\n",
        "\n"
      ],
      "metadata": {
        "id": "D6TpkQfOkO3M"
      }
    }
  ]
}