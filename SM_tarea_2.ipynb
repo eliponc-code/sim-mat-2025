{
  "nbformat": 4,
  "nbformat_minor": 0,
  "metadata": {
    "colab": {
      "provenance": []
    },
    "kernelspec": {
      "name": "python3",
      "display_name": "Python 3"
    },
    "language_info": {
      "name": "python"
    }
  },
  "cells": [
    {
      "cell_type": "code",
      "execution_count": null,
      "metadata": {
        "colab": {
          "base_uri": "https://localhost:8080/"
        },
        "id": "V_MLNmLW2hpm",
        "outputId": "0c5453cd-df03-43ce-9c7a-8222cd6bb135"
      },
      "outputs": [
        {
          "output_type": "stream",
          "name": "stdout",
          "text": [
            "ingresa un numero: 15\n",
            "[ 1  2  3  5  7 11 13]\n"
          ]
        }
      ],
      "source": [
        "import numpy as np\n",
        "\n",
        "def primos(n):\n",
        "  a=np.arange(2, n)\n",
        "  primos=[]\n",
        "\n",
        "  for i in a:\n",
        "        es_primo=True\n",
        "        for j in range(2, int(np.sqrt(i))+1):\n",
        "            if i%j==0:\n",
        "                es_primo=False\n",
        "                break\n",
        "        if es_primo:\n",
        "            primos.append(i)\n",
        "\n",
        "  return np.array([1]+primos)\n",
        "n=int(input(\"ingresa un numero: \"))\n",
        "print(primos(n))"
      ]
    },
    {
      "cell_type": "markdown",
      "source": [
        "Correcciones IA (Chat: como optimizarías el siguiente código)\n"
      ],
      "metadata": {
        "id": "Le6lGbDt6mEl"
      }
    },
    {
      "cell_type": "code",
      "source": [
        "import numpy as np\n",
        "\n",
        "def primos_opt(n):\n",
        "    def es_primo(x):\n",
        "        if x < 2:\n",
        "            return False\n",
        "        if x == 2:\n",
        "            return True\n",
        "        if x % 2 == 0:\n",
        "            return False\n",
        "        for j in range(3, int(np.sqrt(x)) + 1, 2):\n",
        "            if x % j == 0:\n",
        "                return False\n",
        "        return True\n",
        "\n",
        "    return np.array([1] + [i for i in range(2, n) if es_primo(i)])\n",
        "\n",
        "n = int(input(\"Ingresa un número: \"))\n",
        "print(primos_opt(n))"
      ],
      "metadata": {
        "id": "ZQpusznD7aVd"
      },
      "execution_count": null,
      "outputs": []
    },
    {
      "cell_type": "markdown",
      "source": [
        "Es útil ya que separa el código en más partes y así facilita analizarlo. Tambíen ayuda a descartar números pares de froma más rápida. Para mantener la comprensión, usaría el primer código, pero para optimizarlo si usaría el nuevo."
      ],
      "metadata": {
        "id": "N0aKKoMW7vkQ"
      }
    }
  ]
}