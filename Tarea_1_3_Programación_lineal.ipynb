{
  "cells": [
    {
      "cell_type": "markdown",
      "metadata": {
        "id": "kS4_mAIVUmfy"
      },
      "source": [
        "# Tarea - Programación lineal"
      ]
    },
    {
      "cell_type": "markdown",
      "metadata": {
        "id": "o9Gy1ilVUmf1"
      },
      "source": [
        "### Diseño de la Dieta Óptima\n",
        "\n",
        "Se quiere producir comida para gatos de la manera más barata, no obstante se debe también asegurar que se cumplan los datos requeridos de analisis nutricional. Por lo que se quiere variar la cantidad de cada ingrediente para cumplir con los estandares nutricionales. Los requisitos que se tienen es que en $100$ gramos, se deben tener **por lo menos** $8$ gramos de proteína y $6$ gramos de grasa. Así mismo, no se debe tener más de $2$ gramos de fibra y $0.4$ gramos de sal.  \n",
        "\n",
        "Los datos nutricionales se pueden obtener de la siguiente tabla:\n",
        "\n",
        "Ingrediente|Proteína|Grasa|Fibra|Sal\n",
        ":----|----|----|----|----\n",
        "Pollo|  10.0%|08.0%|00.1%|00.2%\n",
        "Carne|  20.0%|10.0%|00.5%|00.5%\n",
        "Cordero|15.0%|11.0%|00.5%|00.7%\n",
        "Arroz|  00.0%|01.0%|10.0%|00.2%\n",
        "Trigo|  04.0%|01.0%|15.0%|00.8%\n",
        "Gel|    00.0%|00.0%|00.0%|00.0%\n",
        "\n",
        "Los costos de cada producto son:\n",
        "\n",
        "Ingrediente|Costo por gramo\n",
        ":----|----\n",
        "Pollo|$\\$$0.013\n",
        "Carne|$\\$$0.008\n",
        "Cordero|$\\$$0.010\n",
        "Arroz|$\\$$0.002\n",
        "Trigo|$\\$$0.005\n",
        "Gel|$\\$$0.001    \n",
        "\n",
        "Lo que se busca optimizar en este caso es la cantidad de productos que se debe utilizar en la comida de gato, minimizando el costo total. Para simplificar la notación use las siguientes variables:\n",
        "\n",
        "+ $x_1:$ Gramos de pollo  \n",
        "+ $x_2:$ Gramos de carne  \n",
        "+ $x_3:$ Gramos de cordero  \n",
        "+ $x_4:$ Gramos de arroz  \n",
        "+ $x_5:$ Gramos de trigo  \n",
        "+ $x_6:$ Gramos de gel\n",
        "\n",
        "La tarea consiste en plantear el problemade programación lineal que permita satisfacer las necesidades alimenticias del gato al tiempo que minimice el costo total y resolverlo con `linprog`."
      ]
    },
    {
      "cell_type": "code",
      "execution_count": null,
      "metadata": {
        "colab": {
          "base_uri": "https://localhost:8080/"
        },
        "id": "Ni17xDtqUmf2",
        "outputId": "5058ef73-fd83-4c09-afe6-2922d2e27dd3"
      },
      "outputs": [
        {
          "output_type": "stream",
          "name": "stdout",
          "text": [
            "Gramos de cada ingrediente: [ 0. 60.  0.  0.  0. 40.]\n",
            "Costo mínimo: 0.52\n"
          ]
        }
      ],
      "source": [
        "\n",
        "from scipy.optimize import linprog\n",
        "c = [0.013, 0.008, 0.010, 0.002, 0.005, 0.001]\n",
        "A_ub = [\n",
        "    [-0.10, -0.20, -0.15, 0, -0.04, 0],   # proteína mínima\n",
        "    [-0.08, -0.10, -0.11, -0.01, -0.01, 0], # grasa mínima\n",
        "    [0.001, 0.005, 0.005, 0.10, 0.15, 0],   # fibra máxima\n",
        "    [0.002, 0.005, 0.007, 0.002, 0.008, 0]  # sal máxima\n",
        "]\n",
        "\n",
        "b_ub = [-8, -6, 2, 0.4]\n",
        "\n",
        "A_eq = [[1, 1, 1, 1, 1, 1]]\n",
        "b_eq = [100]\n",
        "bounds = [(0, None)] * 6\n",
        "res = linprog(c, A_ub=A_ub, b_ub=b_ub, A_eq=A_eq, b_eq=b_eq, bounds=bounds, method=\"highs\")\n",
        "print(\"Gramos de cada ingrediente:\", res.x)\n",
        "print(\"Costo mínimo:\", res.fun)\n"
      ]
    },
    {
      "cell_type": "markdown",
      "metadata": {
        "id": "wkLl4QPZUmf3"
      },
      "source": [
        "### Problema de distribución de energía eléctrica\n",
        "\n",
        "La Comisión Federal de Electricidad **(CFE)** dispone de cuatro plantas de generación para satisfacer la demanda diaria eléctrica en cuatro ciudades, Guadalajara, León y Morelia. Las plantas $1$, $2$ y $3$ pueden satisfacer $80$, $40$ y $60$ millones de KW al día respectivamente. Las necesidades de las ciudades de Guadalajara, León y Morelia son de $70$, $40$ y $70$ millones de Kw al día respectivamente.\n",
        "\n",
        "\n",
        "Los costos asociados al envío de suministro energético por cada millón de Kw entre cada planta y cada ciudad son los registrados en la siguiente tabla.\n",
        "\n",
        "-|Guadalajara|León|Morelia\n",
        ":----|----|----|----\n",
        "Planta 1|5|2|7\n",
        "Planta 2|3|6|6\n",
        "Planta 3|6|1|2\n",
        "\n",
        "Y por último, las restricciones del problema, van a estar dadas por las capacidades de oferta y demanda de cada planta (en millones de KW) y cada ciudad.\n",
        "\n",
        "Para simplificar la notación use las siguientes variables:\n",
        "\n",
        "+ $x_1$: Kw (en millones) distribuidos de la Planta 1 a Guadalajara\n",
        "+ $x_2$: Kw (en millones) distribuidos de la Planta 1 a León\n",
        "+ $x_3$: Kw (en millones) distribuidos de la Planta 1 a Morelia\n",
        "+ $x_4$: Kw (en millones) distribuidos de la Planta 2 a Guadalajara\n",
        "+ $x_5$: Kw (en millones) distribuidos de la Planta 2 a León\n",
        "+ $x_6$: Kw (en millones) distribuidos de la Planta 2 a Morelia\n",
        "+ $x_7$: Kw (en millones) distribuidos de la Planta 3 a Guadalajara\n",
        "+ $x_8$: Kw (en millones) distribuidos de la Planta 3 a León\n",
        "+ $x_9$: Kw (en millones) distribuidos de la Planta 3 a Morelia\n",
        "\n",
        "La tarea consiste en plantear el problema de programación lineal que permita satisfacer las necesidades de todas las ciudades al tiempo que minimice los costos asociados a la distribución y resolverlo con `linprog`."
      ]
    },
    {
      "cell_type": "code",
      "execution_count": null,
      "metadata": {
        "colab": {
          "base_uri": "https://localhost:8080/"
        },
        "id": "GhcI9aZmUmf3",
        "outputId": "2057eaa1-e05e-44f9-ddb2-f6eb568504f9"
      },
      "outputs": [
        {
          "output_type": "stream",
          "name": "stdout",
          "text": [
            "Solución:\n",
            " x1 = 30.000\n",
            " x2 = 40.000\n",
            " x3 = 10.000\n",
            " x4 = 40.000\n",
            " x5 = 0.000\n",
            " x6 = 0.000\n",
            " x7 = 0.000\n",
            " x8 = 0.000\n",
            " x9 = 60.000\n",
            "\n",
            "Costo mínimo = 540.000\n"
          ]
        }
      ],
      "source": [
        "\n",
        "import numpy as np\n",
        "import scipy.optimize as opt\n",
        "c = np.array([\n",
        "    5, 2, 7,   # costos planta 1 -> G, L, M\n",
        "    3, 6, 6,   # costos planta 2 -> G, L, M\n",
        "    6, 1, 2    # costos planta 3 -> G, L, M\n",
        "], dtype=float)\n",
        "A_ub = np.array([\n",
        "    # Planta 1: x1 + x2 + x3 <= 80\n",
        "    [1, 1, 1, 0, 0, 0, 0, 0, 0],\n",
        "    # Planta 2: x4 + x5 + x6 <= 40\n",
        "    [0, 0, 0, 1, 1, 1, 0, 0, 0],\n",
        "    # Planta 3: x7 + x8 + x9 <= 60\n",
        "    [0, 0, 0, 0, 0, 0, 1, 1, 1]\n",
        "], dtype=float)\n",
        "b_ub = np.array([80.0, 40.0, 60.0])\n",
        "A_eq = np.array([\n",
        "    # Guadalajara: x1 + x4 + x7 = 70\n",
        "    [1, 0, 0, 1, 0, 0, 1, 0, 0],\n",
        "    # León: x2 + x5 + x8 = 40\n",
        "    [0, 1, 0, 0, 1, 0, 0, 1, 0],\n",
        "    # Morelia: x3 + x6 + x9 = 70\n",
        "    [0, 0, 1, 0, 0, 1, 0, 0, 1]\n",
        "], dtype=float)\n",
        "b_eq = np.array([70.0, 40.0, 70.0])\n",
        "bounds = [(0, None)] * 9\n",
        "res = opt.linprog(c=c, A_ub=A_ub, b_ub=b_ub, A_eq=A_eq, b_eq=b_eq, bounds=bounds, method='highs')\n",
        "if res.success:\n",
        "    print(\"Solución:\")\n",
        "    for i, xi in enumerate(res.x, start=1):\n",
        "        print(f\" x{i} = {xi:.3f}\")\n",
        "    print(f\"\\nCosto mínimo = {res.fun:.3f}\")\n",
        "else:\n",
        "    print(\"No se encontró solución:\", res.message)\n"
      ]
    },
    {
      "cell_type": "markdown",
      "metadata": {
        "id": "RoFoCnjqUmf4"
      },
      "source": [
        "### Fábrica de focos\n",
        "\n",
        "Una fábrica produce focos incandesentes y los vende a 4.5 u.m., además de focos ahorradores que vende a 6 u.m. cada uno. La producción está limitada a 400 focos incandesentes y 300 focos ahorradores al día, además de no poder producir más de 500 focos en total.\n",
        "\n",
        "Si la fábrica vende toda su producción, determina cuántos focos incandesentes y cuántos focos ahorradores debe producir para obtener los máximos ingresos posibles y cuáles serían éstos."
      ]
    },
    {
      "cell_type": "code",
      "execution_count": null,
      "metadata": {
        "colab": {
          "base_uri": "https://localhost:8080/"
        },
        "id": "rNAzUMU8Umf4",
        "outputId": "c9625d88-2ddc-4b17-beb4-4236645c138f"
      },
      "outputs": [
        {
          "output_type": "stream",
          "name": "stdout",
          "text": [
            "Solución:\n",
            " x1 incandesentes = 200.000\n",
            " x2 ahorradores = 300.000\n",
            "Ingreso máximo = 2700.00\n"
          ]
        }
      ],
      "source": [
        "\n",
        "import numpy as np\n",
        "import scipy.optimize as opt\n",
        "\n",
        "c = np.array([-4.5, -6.0])\n",
        "A_ub = np.array([\n",
        "    [1.0, 0.0],\n",
        "    [0.0, 1.0],\n",
        "    [1.0, 1.0]\n",
        "], dtype=float)\n",
        "b_ub = np.array([400.0, 300.0, 500.0])\n",
        "bounds = [(0, None), (0, None)]\n",
        "res = opt.linprog(c=c, A_ub=A_ub, b_ub=b_ub, bounds=bounds, method='highs')\n",
        "if res.success:\n",
        "    x1_opt, x2_opt = res.x\n",
        "    ingreso_maximo = -res.fun\n",
        "    print(\"Solución:\")\n",
        "    print(f\" x1 incandesentes = {x1_opt:.3f}\")\n",
        "    print(f\" x2 ahorradores = {x2_opt:.3f}\")\n",
        "    print(f\"Ingreso máximo = {ingreso_maximo:.2f}\")\n",
        "else:\n",
        "    print(\"No se encontró solución:\", res.message)\n"
      ]
    },
    {
      "cell_type": "markdown",
      "metadata": {
        "id": "uOg-rfQkUmf5"
      },
      "source": [
        "### Problema de compra al mayoreo\n",
        "Un frutero necesita 16 cajas de naranjas, 5 de plátanos y 20 de manzanas. Dos mayoristas pueden suministrarle para satisfacer sus necesidades, pero sólo venden la fruta en contenedores completos. El mayorista A envía en cada contenedor 8 cajas de naranjas, 1 de plátanos y 2 de manzanas. El mayorista B envía en cada contenedor 2 cajas de naranjas, una de plátanos y 7 de manzanas. Sabiendo que cada contenedor del mayorista A tiene un costo de 150 u.m. y el contenedor del mayorista B de 300 u.m., calcular cuántos contenedores habrá de comprar a cada mayorista, con objeto de reducir al mínimo el costo de lo solicitado."
      ]
    },
    {
      "cell_type": "code",
      "execution_count": null,
      "metadata": {
        "colab": {
          "base_uri": "https://localhost:8080/"
        },
        "id": "TyHOEBnAUmf5",
        "outputId": "cf55cb38-03a2-44cd-e27b-4a3aab995957"
      },
      "outputs": [
        {
          "output_type": "stream",
          "name": "stdout",
          "text": [
            "Resultado:\n",
            " x1 contenedores A = 3.000\n",
            " x2 contenedores B = 2.000\n",
            "Costo mínimo total = 1050.00\n"
          ]
        }
      ],
      "source": [
        "import numpy as np\n",
        "import scipy.optimize as opt\n",
        "\n",
        "c = np.array([150.0, 300.0])\n",
        "\n",
        "A_ub = np.array([\n",
        "    [-8.0, -2.0],    # naranjas\n",
        "    [-1.0, -1.0],    # plátanos\n",
        "    [-2.0, -7.0]     # manzanas\n",
        "], dtype=float)\n",
        "\n",
        "b_ub = np.array([-16.0, -5.0, -20.0])\n",
        "\n",
        "bounds = [(0, None), (0, None)]\n",
        "res = opt.linprog(c=c, A_ub=A_ub, b_ub=b_ub, bounds=bounds, method='highs')\n",
        "if res.success:\n",
        "    x1_opt, x2_opt = res.x\n",
        "    costo_minimo = res.fun\n",
        "    print(\"Resultado:\")\n",
        "    print(f\" x1 contenedores A = {x1_opt:.3f}\")\n",
        "    print(f\" x2 contenedores B = {x2_opt:.3f}\")\n",
        "    print(f\"Costo mínimo total = {costo_minimo:.2f}\")\n",
        "else:\n",
        "    print(\"No se encontró solución:\", res.message)\n"
      ]
    }
  ],
  "metadata": {
    "kernelspec": {
      "display_name": "Python 3 (ipykernel)",
      "language": "python",
      "name": "python3"
    },
    "language_info": {
      "codemirror_mode": {
        "name": "ipython",
        "version": 3
      },
      "file_extension": ".py",
      "mimetype": "text/x-python",
      "name": "python",
      "nbconvert_exporter": "python",
      "pygments_lexer": "ipython3",
      "version": "3.9.12"
    },
    "colab": {
      "provenance": []
    }
  },
  "nbformat": 4,
  "nbformat_minor": 0
}